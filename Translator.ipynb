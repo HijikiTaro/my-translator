{
  "nbformat": 4,
  "nbformat_minor": 0,
  "metadata": {
    "colab": {
      "name": "use-Polygolt-MSTranslator.ipynb",
      "version": "0.3.2",
      "provenance": []
    },
    "kernelspec": {
      "name": "python3",
      "display_name": "Python 3"
    },
    "accelerator": "GPU"
  },
  "cells": [
    {
      "cell_type": "markdown",
      "metadata": {
        "id": "aFA6bnNryAnl",
        "colab_type": "text"
      },
      "source": [
        "polyglot install"
      ]
    },
    {
      "cell_type": "code",
      "metadata": {
        "id": "8Q4l03hoxFhd",
        "colab_type": "code",
        "colab": {}
      },
      "source": [
        "#polyglot insatll\n",
        "!pip install polyglot"
      ],
      "execution_count": 0,
      "outputs": []
    },
    {
      "cell_type": "code",
      "metadata": {
        "id": "Yk1heiYWyKFe",
        "colab_type": "code",
        "colab": {}
      },
      "source": [
        "#module install\n",
        "!apt-get install python-numpy libicu-dev\n",
        "!apt-get update\n",
        "!apt-get install libicu-dev\n",
        "!apt-get install python3-pip\n",
        "!pip3 install --upgrade pip\n",
        "!pip3 install numpy\n",
        "!pip3 install polyglot\n",
        "!pip3 install pyicu\n",
        "!pip3 install pycld2\n",
        "!pip3 install morfessor"
      ],
      "execution_count": 0,
      "outputs": []
    },
    {
      "cell_type": "markdown",
      "metadata": {
        "id": "ArUG9Ao9zDJ1",
        "colab_type": "text"
      },
      "source": [
        "polygolt チュートリアル Tokenization"
      ]
    },
    {
      "cell_type": "code",
      "metadata": {
        "id": "25gRlEX8zCK6",
        "colab_type": "code",
        "colab": {}
      },
      "source": [
        "#ライブラリインポート\n",
        "\n",
        "import polyglot\n",
        "from polyglot.text import Text, Word"
      ],
      "execution_count": 0,
      "outputs": []
    },
    {
      "cell_type": "code",
      "metadata": {
        "id": "ctGrqPu81aoR",
        "colab_type": "code",
        "colab": {}
      },
      "source": [
        "#Tokenization\n",
        "\n",
        "zen = Text(\"Beautiful is better than ugly. \"\n",
        "           \"Explicit is better than implicit. \"\n",
        "           \"Simple is better than complex.\")\n",
        "print(zen.words)\n",
        "print(zen.sentences)"
      ],
      "execution_count": 0,
      "outputs": []
    },
    {
      "cell_type": "markdown",
      "metadata": {
        "id": "ugx-Xj3yDfGH",
        "colab_type": "text"
      },
      "source": [
        "Microsoft Translate text API\n",
        "\n",
        "polygoltで分割した文字ごとにMSTranslateで翻訳\n"
      ]
    },
    {
      "cell_type": "code",
      "metadata": {
        "id": "MVFNqKjQDvPh",
        "colab_type": "code",
        "colab": {}
      },
      "source": [
        ""
      ],
      "execution_count": 0,
      "outputs": []
    }
  ]
}